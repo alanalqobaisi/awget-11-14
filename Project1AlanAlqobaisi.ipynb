{
  "nbformat": 4,
  "nbformat_minor": 0,
  "metadata": {
    "colab": {
      "provenance": [],
      "authorship_tag": "ABX9TyPiYRS1fRP9G7O5jpH/nLYi",
      "include_colab_link": true
    },
    "kernelspec": {
      "name": "python3",
      "display_name": "Python 3"
    },
    "language_info": {
      "name": "python"
    }
  },
  "cells": [
    {
      "cell_type": "markdown",
      "metadata": {
        "id": "view-in-github",
        "colab_type": "text"
      },
      "source": [
        "<a href=\"https://colab.research.google.com/github/alanalqobaisi/awget-11-14/blob/main/Project1AlanAlqobaisi.ipynb\" target=\"_parent\"><img src=\"https://colab.research.google.com/assets/colab-badge.svg\" alt=\"Open In Colab\"/></a>"
      ]
    },
    {
      "cell_type": "code",
      "execution_count": 1,
      "metadata": {
        "id": "g_0V73MTDA3y"
      },
      "outputs": [],
      "source": [
        "#!/usr/bin/python3\n",
        "from networkx import barabasi_albert_graph\n",
        "from csv import writer\n",
        "\n",
        "\n",
        "def main():\n",
        "    # create barabasi albert network with 4000, 7000, and 10000 nodes\n",
        "    # and (10%) node degree\n",
        "    filenames = ['barabasi_albert4000.csv', 'barabasi_albert7000.csv', 'barabasi_albert10000.csv']\n",
        "    networksizes = [4000, 7000, 10000]\n",
        "\n",
        "    for idx, filename in enumerate(filenames):\n",
        "        graph = barabasi_albert_graph(networksizes[idx], int(networksizes[idx] * 0.10))\n",
        "        try:\n",
        "            with open(filename, 'w', newline='') as outfile:\n",
        "                csvwriter = writer(outfile)\n",
        "                for edge in graph.edges:\n",
        "                    csvwriter.writerow(edge)\n",
        "        except IOError as e:\n",
        "            print(\"Unable to open or write \" + filename + \" due to Error: \" + e.strerror)\n",
        "            exit(0)\n",
        "\n",
        "\n",
        "if __name__ == \"__main__\":\n",
        "    main()\n"
      ]
    },
    {
      "cell_type": "code",
      "source": [
        "\n",
        "from networkx import erdos_renyi_graph\n",
        "from csv import writer\n",
        "\n",
        "\n",
        "def main():\n",
        "    # create erdos renyi network with 4000, 7000, and 10000 nodes\n",
        "    # and (0.10) probability of edges creation\n",
        "    filenames = ['erdos_renyi4000.csv', 'erdos_renyi7000.csv', 'erdos_renyi10000.csv']\n",
        "    networksizes = [4000, 7000, 10000]\n",
        "\n",
        "    for idx, filename in enumerate(filenames):\n",
        "        graph = erdos_renyi_graph(networksizes[idx], 0.10)\n",
        "        try:\n",
        "            with open(filename, 'w', newline='') as outfile:\n",
        "                csvwriter = writer(outfile)\n",
        "                for edge in graph.edges:\n",
        "                    csvwriter.writerow(edge)\n",
        "        except IOError as e:\n",
        "            print(\"Unable to open or write \" + filename + \" due to Error: \" + e.strerror)\n",
        "            exit(0)\n",
        "\n",
        "\n",
        "if __name__ == \"__main__\":\n",
        "    main()\n"
      ],
      "metadata": {
        "id": "OTjfnfjCDhkH"
      },
      "execution_count": 2,
      "outputs": []
    },
    {
      "cell_type": "code",
      "source": [
        "from networkx import connected_watts_strogatz_graph\n",
        "from csv import writer\n",
        "\n",
        "\n",
        "def main():\n",
        "    # create watts strogatz network with 4000, 7000, and 10000 nodes\n",
        "    # and (10%) node degree and (0.10) probability of edges creation\n",
        "    filenames = ['watts_strogatz4000.csv', 'watts_strogatz7000.csv', 'watts_strogatz10000.csv']\n",
        "    networksizes = [4000, 7000, 10000]\n",
        "\n",
        "    for idx, filename in enumerate(filenames):\n",
        "        graph = connected_watts_strogatz_graph(networksizes[idx], int(networksizes[idx] * 0.10), 0.10)\n",
        "        try:\n",
        "            with open(filename, 'w', newline='') as outfile:\n",
        "                csvwriter = writer(outfile)\n",
        "                for edge in graph.edges:\n",
        "                    csvwriter.writerow(edge)\n",
        "        except IOError as e:\n",
        "            print(\"Unable to open or write \" + filename + \" due to IOError: \" + e.strerror)\n",
        "            exit(0)\n",
        "\n",
        "\n",
        "if __name__ == \"__main__\":\n",
        "    main()\n"
      ],
      "metadata": {
        "id": "G1NEAPGvDymw"
      },
      "execution_count": 3,
      "outputs": []
    },
    {
      "cell_type": "code",
      "source": [
        "from optparse import OptionParser\n",
        "from csv import reader\n",
        "from networkx import Graph\n",
        "from random import choice, random\n",
        "from csv import writer\n",
        "\n",
        "\n",
        "def write_to_csv_file(filename, rows):\n",
        "    try:\n",
        "        with open(filename, 'w', newline='') as outfile:\n",
        "            # write to the file with outfile.write\n",
        "            csvwriter = writer(outfile)\n",
        "            for row in rows:\n",
        "                csvwriter.writerow(row)\n",
        "    except IOError as e:\n",
        "        print(\"Unable to write \" + filename + \" due to Error: \" + e.strerror)\n",
        "\n",
        "\n",
        "def simulate_infection(net: Graph, infector: str, infection_probability: float):\n",
        "    infected = set(infector)\n",
        "    rows_list = [(\"Round\", \"Infection Delta\", \"Total infected\")]\n",
        "    round_count = 0\n",
        "    print('Infecting ' + str(len(net.nodes())) + ' nodes, starting from ' + infector + ':')\n",
        "    while len(infected) < len(net.nodes()):\n",
        "        currently_infected = len(infected)\n",
        "        for node in net.neighbors(choice(tuple(infected))):\n",
        "            if node not in infected:\n",
        "                if random() <= infection_probability :\n",
        "                    infected.add(node)\n",
        "        round_count += 1\n",
        "        infection_delta = len(infected) - currently_infected\n",
        "        if infection_delta > 0:\n",
        "            rows_list.append((round_count, infection_delta, len(infected)))\n",
        "\n",
        "    # return the infection report\n",
        "    return tuple(rows_list)\n",
        "\n",
        "def main():\n",
        "    network_file = input(\"Enter a network file name (csv file):\\n\")\n",
        "    infection_probability_str =input(\"Enter the infection probability [0 .. 1] :\\n\")\n",
        "    infector = input(\"Enter infector node:\\n\")\n",
        "\n",
        "    try:\n",
        "        # Convert infection probability into float\n",
        "        infection_probability =float(infection_probability_str)\n",
        "    except ValueError:\n",
        "        print(\"Error: probability must be float between [0 .. 1]\")\n",
        "        exit(0)\n",
        "\n",
        "    graph = Graph()\n",
        "    try:\n",
        "        with open(network_file, 'r') as infile:\n",
        "            csv = reader(infile)\n",
        "            for row in csv:\n",
        "                graph.add_edge(row[0], row[1])\n",
        "            if infector not in graph.nodes():\n",
        "                print(\"the infector node must be in the set of nodes:\\n\" + str(graph.nodes()))\n",
        "                exit(0)\n",
        "\n",
        "            #  simulate network infection\n",
        "            infection_report = simulate_infection(graph, infector, infection_probability)\n",
        "\n",
        "            # save infection report into csv file\n",
        "            outfilename = \"Infection-\"+infection_probability_str + \"-\" + network_file\n",
        "            write_to_csv_file(outfilename, tuple(infection_report))\n",
        "\n",
        "    except IOError as e:\n",
        "        print(\"Unable to open \" + network_file + \" due to Error: \" + e.strerror)\n",
        "        exit(0)\n",
        "\n",
        "if __name__ == \"__main__\":\n",
        "    main()\n"
      ],
      "metadata": {
        "colab": {
          "base_uri": "https://localhost:8080/"
        },
        "id": "mR_QA7wxEPdL",
        "outputId": "fa0d4ad5-ff10-4217-bdc4-054baae915d6"
      },
      "execution_count": 3,
      "outputs": [
        {
          "output_type": "stream",
          "name": "stdout",
          "text": [
            "Enter a network file name (csv file):\n",
            "watts_strogatz4000.csv\n",
            "Enter the infection probability [0 .. 1] :\n",
            "0.1\n",
            "Enter infector node:\n",
            "75\n",
            "Infecting 4000 nodes, starting from 75:\n"
          ]
        }
      ]
    }
  ]
}